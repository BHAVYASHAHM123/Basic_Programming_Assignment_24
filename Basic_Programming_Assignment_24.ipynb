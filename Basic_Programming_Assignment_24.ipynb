{
  "nbformat": 4,
  "nbformat_minor": 0,
  "metadata": {
    "colab": {
      "name": "Basic_Programming_Assignment_24.ipynb",
      "provenance": []
    },
    "kernelspec": {
      "name": "python3",
      "display_name": "Python 3"
    },
    "language_info": {
      "name": "python"
    }
  },
  "cells": [
    {
      "cell_type": "markdown",
      "source": [
        "Q1) \n",
        "Create a function that takes an integer and returns a list from 1 to the given number, where:\n",
        "1. If the number can be divided evenly by 4, amplify it by 10 (i.e. return 10 times the\n",
        "number).\n",
        "2. If the number cannot be divided evenly by 4, simply return the number.\n",
        "Examples\n",
        "amplify(4) ➞ [1, 2, 3, 40]\n",
        "amplify(3) ➞ [1, 2, 3]\n",
        "amplify(25) ➞ [1, 2, 3, 40, 5, 6, 7, 80, 9, 10, 11, 120, 13, 14, 15, 160,\n",
        "17, 18, 19, 200, 21, 22, 23, 240, 25]\n",
        "Notes\n",
        " The given integer will always be equal to or greater than 1.\n",
        " Include the number (see example above).\n",
        " To perform this problem with its intended purpose, try doing it with list\n",
        "comprehensions. If that's too difficult, just solve the challenge any way you can."
      ],
      "metadata": {
        "id": "n15OD9K8ZZZX"
      }
    },
    {
      "cell_type": "code",
      "execution_count": 1,
      "metadata": {
        "id": "Xb41zj-hZYK3"
      },
      "outputs": [],
      "source": [
        "def amplify(n):\n",
        "    return [i*10 if i % 4 == 0 else i for i in range(1,n+1) ]"
      ]
    },
    {
      "cell_type": "code",
      "source": [
        "amplify(4)\n"
      ],
      "metadata": {
        "colab": {
          "base_uri": "https://localhost:8080/"
        },
        "id": "mJusUnAEZeVt",
        "outputId": "74585fac-9312-4431-ff7e-f59e84d8f42e"
      },
      "execution_count": 2,
      "outputs": [
        {
          "output_type": "execute_result",
          "data": {
            "text/plain": [
              "[1, 2, 3, 40]"
            ]
          },
          "metadata": {},
          "execution_count": 2
        }
      ]
    },
    {
      "cell_type": "code",
      "source": [
        "amplify(3) \n"
      ],
      "metadata": {
        "colab": {
          "base_uri": "https://localhost:8080/"
        },
        "id": "GDx0D0CgZfkd",
        "outputId": "c596e759-dcde-4632-ca71-7ca563e3a937"
      },
      "execution_count": 3,
      "outputs": [
        {
          "output_type": "execute_result",
          "data": {
            "text/plain": [
              "[1, 2, 3]"
            ]
          },
          "metadata": {},
          "execution_count": 3
        }
      ]
    },
    {
      "cell_type": "code",
      "source": [
        "amplify(25)\n"
      ],
      "metadata": {
        "colab": {
          "base_uri": "https://localhost:8080/"
        },
        "id": "CE8w-9PYZgtw",
        "outputId": "cc9459fa-482c-4493-d3e4-1eef8890462b"
      },
      "execution_count": 4,
      "outputs": [
        {
          "output_type": "execute_result",
          "data": {
            "text/plain": [
              "[1,\n",
              " 2,\n",
              " 3,\n",
              " 40,\n",
              " 5,\n",
              " 6,\n",
              " 7,\n",
              " 80,\n",
              " 9,\n",
              " 10,\n",
              " 11,\n",
              " 120,\n",
              " 13,\n",
              " 14,\n",
              " 15,\n",
              " 160,\n",
              " 17,\n",
              " 18,\n",
              " 19,\n",
              " 200,\n",
              " 21,\n",
              " 22,\n",
              " 23,\n",
              " 240,\n",
              " 25]"
            ]
          },
          "metadata": {},
          "execution_count": 4
        }
      ]
    },
    {
      "cell_type": "markdown",
      "source": [
        "Q2) \n",
        "Create a function that takes a list of numbers and return the number that's unique.\n",
        "Examples\n",
        "unique([3, 3, 3, 7, 3, 3]) ➞ 7\n",
        "unique([0, 0, 0.77, 0, 0]) ➞ 0.77\n",
        "unique([0, 1, 1, 1, 1, 1, 1, 1]) ➞ 0\n",
        "Notes\n",
        "Test cases will always have exactly one unique number while all others are the same."
      ],
      "metadata": {
        "id": "cDv6PllCZmcq"
      }
    },
    {
      "cell_type": "code",
      "source": [
        "def unique(lst):\n",
        "    s = list(set(lst))# give us unique value\n",
        "    for i in s:\n",
        "        if lst.count(i) == 1:\n",
        "            return i"
      ],
      "metadata": {
        "id": "40AKbbjGZjFw"
      },
      "execution_count": 5,
      "outputs": []
    },
    {
      "cell_type": "code",
      "source": [
        "unique([3, 3, 3, 7, 3, 3])\n"
      ],
      "metadata": {
        "colab": {
          "base_uri": "https://localhost:8080/"
        },
        "id": "ssOQjwB6ZpAR",
        "outputId": "bd3b71cc-ea21-452c-933c-ef936b3d5795"
      },
      "execution_count": 6,
      "outputs": [
        {
          "output_type": "execute_result",
          "data": {
            "text/plain": [
              "7"
            ]
          },
          "metadata": {},
          "execution_count": 6
        }
      ]
    },
    {
      "cell_type": "code",
      "source": [
        "unique([0, 0, 0.77, 0, 0])\n"
      ],
      "metadata": {
        "colab": {
          "base_uri": "https://localhost:8080/"
        },
        "id": "JVslcETmZqZU",
        "outputId": "b55035c6-8a16-4b5f-fdad-ba4592fc8763"
      },
      "execution_count": 7,
      "outputs": [
        {
          "output_type": "execute_result",
          "data": {
            "text/plain": [
              "0.77"
            ]
          },
          "metadata": {},
          "execution_count": 7
        }
      ]
    },
    {
      "cell_type": "code",
      "source": [
        "unique([0, 1, 1, 1, 1, 1, 1, 1])\n"
      ],
      "metadata": {
        "colab": {
          "base_uri": "https://localhost:8080/"
        },
        "id": "cHx1DlUeZsd1",
        "outputId": "e4455312-38a1-4f83-8414-f6d5910710b6"
      },
      "execution_count": 8,
      "outputs": [
        {
          "output_type": "execute_result",
          "data": {
            "text/plain": [
              "0"
            ]
          },
          "metadata": {},
          "execution_count": 8
        }
      ]
    },
    {
      "cell_type": "markdown",
      "source": [
        "Q3) \n",
        "Your task is to create a Circle constructor that creates a circle with a radius provided by an\n",
        "argument. The circles constructed must have two getters getArea() (PIr^2) and\n",
        "getPerimeter() (2PI*r) which give both respective areas and perimeter (circumference).\n",
        "\n",
        "For help with this class, I have provided you with a Rectangle constructor which you can use\n",
        "as a base example.\n",
        "Examples\n",
        "circy = Circle(11)\n",
        "circy.getArea()\n",
        "circy = Circle(4.44)\n",
        "circy.getPerimeter()\n",
        "Notes\n",
        "Round results up to the nearest integer.\n"
      ],
      "metadata": {
        "id": "jzCvguLAZwGF"
      }
    },
    {
      "cell_type": "code",
      "source": [
        "class Circle():\n",
        "    def __init__(self, r):\n",
        "        self.radius = r\n",
        "\n",
        "    def getArea(self):\n",
        "        return round(self.radius**2*3.14)\n",
        "    \n",
        "    def getPerimeter(self):\n",
        "        return round(2*self.radius*3.14)"
      ],
      "metadata": {
        "id": "QNel3PuZZuCO"
      },
      "execution_count": 9,
      "outputs": []
    },
    {
      "cell_type": "code",
      "source": [
        "circy = Circle(11)\n",
        "circy.getArea()"
      ],
      "metadata": {
        "colab": {
          "base_uri": "https://localhost:8080/"
        },
        "id": "GBl9MiSGZ-Pg",
        "outputId": "0b42a0fb-1a1f-4a29-8a4b-192ba9185311"
      },
      "execution_count": 10,
      "outputs": [
        {
          "output_type": "execute_result",
          "data": {
            "text/plain": [
              "380"
            ]
          },
          "metadata": {},
          "execution_count": 10
        }
      ]
    },
    {
      "cell_type": "code",
      "source": [
        "circy = Circle(4.44)\n",
        "circy.getPerimeter()"
      ],
      "metadata": {
        "colab": {
          "base_uri": "https://localhost:8080/"
        },
        "id": "wSbRYKz0aAJG",
        "outputId": "322e39b3-0ce4-42c6-8d44-5b64780163d4"
      },
      "execution_count": 11,
      "outputs": [
        {
          "output_type": "execute_result",
          "data": {
            "text/plain": [
              "28"
            ]
          },
          "metadata": {},
          "execution_count": 11
        }
      ]
    },
    {
      "cell_type": "markdown",
      "source": [
        "Q4) Create a function that takes a list of strings and return a list, sorted from shortest to longest.\n",
        "Examples\n",
        "sort_by_length(['Google', 'Apple', 'Microsoft'])\n",
        "➞ ['Apple', 'Google', 'Microsoft']\n",
        "sort_by_length(['Leonardo', 'Michelangelo', 'Raphael', 'Donatello'])\n",
        "➞ ['Raphael', 'Leonardo', 'Donatello', 'Michelangelo']\n",
        "sort_by_length(['Turing', 'Einstein', 'Jung'])\n",
        "➞ ['Jung', 'Turing', 'Einstein']\n",
        "Notes\n",
        "All test cases contain lists with strings of different lengths, so you won't have to deal with\n",
        "multiple strings of the same length."
      ],
      "metadata": {
        "id": "PDLfIWuOaD9O"
      }
    },
    {
      "cell_type": "code",
      "source": [
        "def sort_by_length(lst):\n",
        "    return sorted(lst, key = len)"
      ],
      "metadata": {
        "id": "egt5DxwbaBuf"
      },
      "execution_count": 12,
      "outputs": []
    },
    {
      "cell_type": "code",
      "source": [
        "sort_by_length(['Google', 'Apple', 'Microsoft'])\n"
      ],
      "metadata": {
        "colab": {
          "base_uri": "https://localhost:8080/"
        },
        "id": "2qNiRvTLaHBN",
        "outputId": "657080a5-3397-4308-9fb9-eff2a51d76be"
      },
      "execution_count": 13,
      "outputs": [
        {
          "output_type": "execute_result",
          "data": {
            "text/plain": [
              "['Apple', 'Google', 'Microsoft']"
            ]
          },
          "metadata": {},
          "execution_count": 13
        }
      ]
    },
    {
      "cell_type": "code",
      "source": [
        "sort_by_length(['Leonardo', 'Michelangelo', 'Raphael', 'Donatello'])\n"
      ],
      "metadata": {
        "colab": {
          "base_uri": "https://localhost:8080/"
        },
        "id": "ZEK5jGi_aIRN",
        "outputId": "38eb9f72-58f5-4e54-fa83-4a0521774465"
      },
      "execution_count": 16,
      "outputs": [
        {
          "output_type": "execute_result",
          "data": {
            "text/plain": [
              "['Raphael', 'Leonardo', 'Donatello', 'Michelangelo']"
            ]
          },
          "metadata": {},
          "execution_count": 16
        }
      ]
    },
    {
      "cell_type": "code",
      "source": [
        "sort_by_length(['Turing', 'Einstein', 'Jung'])\n"
      ],
      "metadata": {
        "colab": {
          "base_uri": "https://localhost:8080/"
        },
        "id": "-XttER3AaKOS",
        "outputId": "33b183cf-fbd5-4d12-c78f-f9e7c15944f7"
      },
      "execution_count": 17,
      "outputs": [
        {
          "output_type": "execute_result",
          "data": {
            "text/plain": [
              "['Jung', 'Turing', 'Einstein']"
            ]
          },
          "metadata": {},
          "execution_count": 17
        }
      ]
    },
    {
      "cell_type": "markdown",
      "source": [
        "Create a function that validates whether three given integers form a Pythagorean triplet. The\n",
        "sum of the squares of the two smallest integers must equal the square of the largest number to\n",
        "be validated.\n",
        "\n",
        "Examples\n",
        "is_triplet(3, 4, 5) ➞ True\n",
        "\n",
        "is_triplet(13, 5, 12) ➞ True\n",
        "\n",
        "is_triplet(1, 2, 3) ➞ False\n",
        "\n",
        "Notes\n",
        "Numbers may not be given in a sorted order."
      ],
      "metadata": {
        "id": "_U4qF40faRmb"
      }
    },
    {
      "cell_type": "code",
      "source": [
        "def is_triplet(a,b,c):\n",
        "    lst = []\n",
        "    lst.extend((a,b,c))\n",
        "    lst = sorted(lst)\n",
        "\n",
        "    if lst[0]**2 + lst[1]**2 == lst[2]**2:\n",
        "        print('Triplets')\n",
        "        return True\n",
        "    else:\n",
        "        print(\"not triplet\")\n",
        "        return False"
      ],
      "metadata": {
        "id": "wWxHt6WsaO_l"
      },
      "execution_count": 18,
      "outputs": []
    },
    {
      "cell_type": "code",
      "source": [
        "is_triplet(3, 4, 5)\n"
      ],
      "metadata": {
        "colab": {
          "base_uri": "https://localhost:8080/"
        },
        "id": "BsuH_7SIaV4g",
        "outputId": "18f9cc63-d62b-4cb7-ad8c-9729245cf065"
      },
      "execution_count": 19,
      "outputs": [
        {
          "output_type": "stream",
          "name": "stdout",
          "text": [
            "Triplets\n"
          ]
        },
        {
          "output_type": "execute_result",
          "data": {
            "text/plain": [
              "True"
            ]
          },
          "metadata": {},
          "execution_count": 19
        }
      ]
    },
    {
      "cell_type": "code",
      "source": [
        "is_triplet(13, 5, 12) \n"
      ],
      "metadata": {
        "colab": {
          "base_uri": "https://localhost:8080/"
        },
        "id": "RcTIedtUaZDE",
        "outputId": "e975c395-daaf-462f-e953-684aa8c768e4"
      },
      "execution_count": 20,
      "outputs": [
        {
          "output_type": "stream",
          "name": "stdout",
          "text": [
            "Triplets\n"
          ]
        },
        {
          "output_type": "execute_result",
          "data": {
            "text/plain": [
              "True"
            ]
          },
          "metadata": {},
          "execution_count": 20
        }
      ]
    },
    {
      "cell_type": "code",
      "source": [
        "is_triplet(1, 2, 3)\n"
      ],
      "metadata": {
        "colab": {
          "base_uri": "https://localhost:8080/"
        },
        "id": "-p0weLDRaaey",
        "outputId": "681cd017-6419-4191-c35e-d422c190f7e5"
      },
      "execution_count": 21,
      "outputs": [
        {
          "output_type": "stream",
          "name": "stdout",
          "text": [
            "not triplet\n"
          ]
        },
        {
          "output_type": "execute_result",
          "data": {
            "text/plain": [
              "False"
            ]
          },
          "metadata": {},
          "execution_count": 21
        }
      ]
    },
    {
      "cell_type": "code",
      "source": [
        ""
      ],
      "metadata": {
        "id": "f6xU9BoQab5C"
      },
      "execution_count": null,
      "outputs": []
    }
  ]
}